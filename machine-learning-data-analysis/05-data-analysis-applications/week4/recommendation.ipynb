{
 "cells": [
  {
   "cell_type": "code",
   "execution_count": 1,
   "metadata": {
    "collapsed": true
   },
   "outputs": [],
   "source": [
    "import pandas as pd"
   ]
  },
  {
   "cell_type": "code",
   "execution_count": 2,
   "metadata": {},
   "outputs": [],
   "source": [
    "def to_list(x):\n",
    "    if x == \"\":\n",
    "        return []\n",
    "    return [int(i) for i in x.split(\",\")]\n",
    "\n",
    "def load_data(file):\n",
    "    data = pd.read_csv(file, sep=\";\", names=[\"seen\", \"bought\"],\n",
    "                       converters={0: to_list, 1: to_list},\n",
    "                       skip_blank_lines=True)\n",
    "    return data"
   ]
  },
  {
   "cell_type": "code",
   "execution_count": 3,
   "metadata": {},
   "outputs": [
    {
     "name": "stdout",
     "output_type": "stream",
     "text": [
      "(50000, 2)\n"
     ]
    },
    {
     "data": {
      "text/html": [
       "<div>\n",
       "<style>\n",
       "    .dataframe thead tr:only-child th {\n",
       "        text-align: right;\n",
       "    }\n",
       "\n",
       "    .dataframe thead th {\n",
       "        text-align: left;\n",
       "    }\n",
       "\n",
       "    .dataframe tbody tr th {\n",
       "        vertical-align: top;\n",
       "    }\n",
       "</style>\n",
       "<table border=\"1\" class=\"dataframe\">\n",
       "  <thead>\n",
       "    <tr style=\"text-align: right;\">\n",
       "      <th></th>\n",
       "      <th>seen</th>\n",
       "      <th>bought</th>\n",
       "    </tr>\n",
       "  </thead>\n",
       "  <tbody>\n",
       "    <tr>\n",
       "      <th>0</th>\n",
       "      <td>[0, 1, 2, 3, 4, 5]</td>\n",
       "      <td>[]</td>\n",
       "    </tr>\n",
       "    <tr>\n",
       "      <th>1</th>\n",
       "      <td>[9, 10, 11, 9, 11, 12, 9, 11]</td>\n",
       "      <td>[]</td>\n",
       "    </tr>\n",
       "    <tr>\n",
       "      <th>2</th>\n",
       "      <td>[16, 17, 18, 19, 20, 21]</td>\n",
       "      <td>[]</td>\n",
       "    </tr>\n",
       "    <tr>\n",
       "      <th>3</th>\n",
       "      <td>[24, 25, 26, 27, 24]</td>\n",
       "      <td>[]</td>\n",
       "    </tr>\n",
       "    <tr>\n",
       "      <th>4</th>\n",
       "      <td>[34, 35, 36, 34, 37, 35, 36, 37, 38, 39, 38, 39]</td>\n",
       "      <td>[]</td>\n",
       "    </tr>\n",
       "  </tbody>\n",
       "</table>\n",
       "</div>"
      ],
      "text/plain": [
       "                                               seen bought\n",
       "0                                [0, 1, 2, 3, 4, 5]     []\n",
       "1                     [9, 10, 11, 9, 11, 12, 9, 11]     []\n",
       "2                          [16, 17, 18, 19, 20, 21]     []\n",
       "3                              [24, 25, 26, 27, 24]     []\n",
       "4  [34, 35, 36, 34, 37, 35, 36, 37, 38, 39, 38, 39]     []"
      ]
     },
     "execution_count": 3,
     "metadata": {},
     "output_type": "execute_result"
    }
   ],
   "source": [
    "train = load_data(\"coursera_sessions_train.txt\")\n",
    "print train.shape\n",
    "train.head()"
   ]
  },
  {
   "cell_type": "code",
   "execution_count": 4,
   "metadata": {},
   "outputs": [
    {
     "name": "stdout",
     "output_type": "stream",
     "text": [
      "(50000, 2)\n"
     ]
    },
    {
     "data": {
      "text/html": [
       "<div>\n",
       "<style>\n",
       "    .dataframe thead tr:only-child th {\n",
       "        text-align: right;\n",
       "    }\n",
       "\n",
       "    .dataframe thead th {\n",
       "        text-align: left;\n",
       "    }\n",
       "\n",
       "    .dataframe tbody tr th {\n",
       "        vertical-align: top;\n",
       "    }\n",
       "</style>\n",
       "<table border=\"1\" class=\"dataframe\">\n",
       "  <thead>\n",
       "    <tr style=\"text-align: right;\">\n",
       "      <th></th>\n",
       "      <th>seen</th>\n",
       "      <th>bought</th>\n",
       "    </tr>\n",
       "  </thead>\n",
       "  <tbody>\n",
       "    <tr>\n",
       "      <th>0</th>\n",
       "      <td>[6, 7, 8]</td>\n",
       "      <td>[]</td>\n",
       "    </tr>\n",
       "    <tr>\n",
       "      <th>1</th>\n",
       "      <td>[13, 14, 15]</td>\n",
       "      <td>[]</td>\n",
       "    </tr>\n",
       "    <tr>\n",
       "      <th>2</th>\n",
       "      <td>[22, 23]</td>\n",
       "      <td>[]</td>\n",
       "    </tr>\n",
       "    <tr>\n",
       "      <th>3</th>\n",
       "      <td>[28, 29, 30, 31, 32, 33]</td>\n",
       "      <td>[]</td>\n",
       "    </tr>\n",
       "    <tr>\n",
       "      <th>4</th>\n",
       "      <td>[40, 41]</td>\n",
       "      <td>[]</td>\n",
       "    </tr>\n",
       "  </tbody>\n",
       "</table>\n",
       "</div>"
      ],
      "text/plain": [
       "                       seen bought\n",
       "0                 [6, 7, 8]     []\n",
       "1              [13, 14, 15]     []\n",
       "2                  [22, 23]     []\n",
       "3  [28, 29, 30, 31, 32, 33]     []\n",
       "4                  [40, 41]     []"
      ]
     },
     "execution_count": 4,
     "metadata": {},
     "output_type": "execute_result"
    }
   ],
   "source": [
    "test = load_data(\"coursera_sessions_test.txt\")\n",
    "print test.shape\n",
    "test.head()"
   ]
  },
  {
   "cell_type": "code",
   "execution_count": 5,
   "metadata": {},
   "outputs": [],
   "source": [
    "def calc_freq(col):\n",
    "    freq = {}\n",
    "    \n",
    "    for (_, items) in col.iteritems():\n",
    "        for item in items:\n",
    "            if item not in freq:\n",
    "                freq[item] = 0\n",
    "            freq[item] += 1\n",
    "    return freq"
   ]
  },
  {
   "cell_type": "code",
   "execution_count": 6,
   "metadata": {},
   "outputs": [],
   "source": [
    "id_train_seen_freq = calc_freq(train[\"seen\"])\n",
    "id_train_bought_freq = calc_freq(train[\"bought\"])"
   ]
  },
  {
   "cell_type": "code",
   "execution_count": 7,
   "metadata": {
    "collapsed": true
   },
   "outputs": [],
   "source": [
    "def unique(l):\n",
    "    seen = set()\n",
    "    seen_add = seen.add\n",
    "    return [x for x in l if not (x in seen or seen_add(x))]\n",
    "\n",
    "def intersect(a, b):\n",
    "    return list(set(a) & set(b))"
   ]
  },
  {
   "cell_type": "code",
   "execution_count": 8,
   "metadata": {},
   "outputs": [],
   "source": [
    "def avg_precision(k, data, freqs):\n",
    "    precision = 0\n",
    "    total = 0\n",
    "    \n",
    "    for row in data.iterrows():\n",
    "        row = row[1]\n",
    "        if len(row['bought']) == 0:\n",
    "            continue\n",
    "        r = sorted(unique(row['seen']), key = lambda x: freqs.get(x, 0), reverse=True)[0: min(k, len(row['seen']))]\n",
    "        precision += float(len(intersect(r, row['bought']))) / k\n",
    "        total += 1\n",
    "    return precision / total\n",
    "\n",
    "def avg_recall(k, data, freqs):\n",
    "    recall = 0\n",
    "    total = 0\n",
    "\n",
    "    for row in data.iterrows():\n",
    "        row = row[1]\n",
    "        if len(row['bought']) == 0:\n",
    "            continue\n",
    "        r = sorted(unique(row['seen']), key = lambda x: freqs.get(x, 0), reverse=True)[0: min(k, len(row['seen']))]\n",
    "        recall += float(len(intersect(r, row['bought']))) / len(row['bought'])\n",
    "        total += 1\n",
    "    return recall / total"
   ]
  },
  {
   "cell_type": "code",
   "execution_count": 9,
   "metadata": {},
   "outputs": [],
   "source": [
    "def save_answer(f, r1, p1, r5, p5):\n",
    "    with open(f, \"w\") as f:\n",
    "        f.write(\"%.2f %.2f %.2f %.2f\" % (r1, p1, r5, p5))"
   ]
  },
  {
   "cell_type": "code",
   "execution_count": 10,
   "metadata": {},
   "outputs": [],
   "source": [
    "save_answer(\"answer1.txt\",\n",
    "            avg_recall(1, train, id_train_seen_freq),\n",
    "            avg_precision(1, train, id_train_seen_freq),\n",
    "            avg_recall(5, train, id_train_seen_freq),\n",
    "            avg_precision(5, train, id_train_seen_freq))"
   ]
  },
  {
   "cell_type": "code",
   "execution_count": 11,
   "metadata": {
    "collapsed": true
   },
   "outputs": [],
   "source": [
    "save_answer(\"answer2.txt\",\n",
    "            avg_recall(1, test, id_train_seen_freq),\n",
    "            avg_precision(1, test, id_train_seen_freq),\n",
    "            avg_recall(5, test, id_train_seen_freq),\n",
    "            avg_precision(5, test, id_train_seen_freq))"
   ]
  },
  {
   "cell_type": "code",
   "execution_count": 12,
   "metadata": {
    "collapsed": true
   },
   "outputs": [],
   "source": [
    "save_answer(\"answer3.txt\",\n",
    "            avg_recall(1, train, id_train_bought_freq),\n",
    "            avg_precision(1, train, id_train_bought_freq),\n",
    "            avg_recall(5, train, id_train_bought_freq),\n",
    "            avg_precision(5, train, id_train_bought_freq))"
   ]
  },
  {
   "cell_type": "code",
   "execution_count": 13,
   "metadata": {
    "collapsed": true
   },
   "outputs": [],
   "source": [
    "save_answer(\"answer4.txt\",\n",
    "            avg_recall(1, test, id_train_bought_freq),\n",
    "            avg_precision(1, test, id_train_bought_freq),\n",
    "            avg_recall(5, test, id_train_bought_freq),\n",
    "            avg_precision(5, test, id_train_bought_freq))"
   ]
  }
 ],
 "metadata": {
  "kernelspec": {
   "display_name": "Python 2",
   "language": "python",
   "name": "python2"
  },
  "language_info": {
   "codemirror_mode": {
    "name": "ipython",
    "version": 2
   },
   "file_extension": ".py",
   "mimetype": "text/x-python",
   "name": "python",
   "nbconvert_exporter": "python",
   "pygments_lexer": "ipython2",
   "version": "2.7.14"
  }
 },
 "nbformat": 4,
 "nbformat_minor": 2
}
