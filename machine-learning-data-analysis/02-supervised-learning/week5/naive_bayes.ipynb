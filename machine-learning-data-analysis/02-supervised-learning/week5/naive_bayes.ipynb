{
 "cells": [
  {
   "cell_type": "code",
   "execution_count": 1,
   "metadata": {},
   "outputs": [
    {
     "name": "stderr",
     "output_type": "stream",
     "text": [
      "/usr/local/lib/python2.7/site-packages/sklearn/cross_validation.py:44: DeprecationWarning: This module was deprecated in version 0.18 in favor of the model_selection module into which all the refactored classes and functions are moved. Also note that the interface of the new CV iterators are different from that of this module. This module will be removed in 0.20.\n",
      "  \"This module will be removed in 0.20.\", DeprecationWarning)\n"
     ]
    }
   ],
   "source": [
    "from sklearn import datasets, cross_validation, naive_bayes\n",
    "import numpy as np"
   ]
  },
  {
   "cell_type": "code",
   "execution_count": 2,
   "metadata": {},
   "outputs": [],
   "source": [
    "d = datasets.load_digits(return_X_y=True)\n",
    "bc = datasets.load_breast_cancer(return_X_y=True)"
   ]
  },
  {
   "cell_type": "code",
   "execution_count": 3,
   "metadata": {},
   "outputs": [
    {
     "name": "stdout",
     "output_type": "stream",
     "text": [
      "BernoulliNB on digits: 0.825824\n",
      "MultinomialNB on digits: 0.870877\n",
      "GaussianNB on digits: 0.818600\n",
      "BernoulliNB on breast cancer: 0.627420\n",
      "MultinomialNB on breast cancer: 0.894579\n",
      "GaussianNB on breast cancer: 0.936749\n"
     ]
    }
   ],
   "source": [
    "for (X, y, name) in [(d[0], d[1], \"digits\"), (bc[0], bc[1], \"breast cancer\")]:\n",
    "    for e in [naive_bayes.BernoulliNB, naive_bayes.MultinomialNB, naive_bayes.GaussianNB]:\n",
    "        score = cross_validation.cross_val_score(e(), X, y).mean()\n",
    "        print(\"%s on %s: %f\" % (e.__name__, name, score))"
   ]
  },
  {
   "cell_type": "code",
   "execution_count": null,
   "metadata": {
    "collapsed": true
   },
   "outputs": [],
   "source": []
  }
 ],
 "metadata": {
  "kernelspec": {
   "display_name": "Python 2",
   "language": "python",
   "name": "python2"
  },
  "language_info": {
   "codemirror_mode": {
    "name": "ipython",
    "version": 2
   },
   "file_extension": ".py",
   "mimetype": "text/x-python",
   "name": "python",
   "nbconvert_exporter": "python",
   "pygments_lexer": "ipython2",
   "version": "2.7.13"
  }
 },
 "nbformat": 4,
 "nbformat_minor": 2
}
