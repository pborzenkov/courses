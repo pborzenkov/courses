{
 "cells": [
  {
   "cell_type": "code",
   "execution_count": 1,
   "metadata": {
    "collapsed": true
   },
   "outputs": [],
   "source": [
    "from sklearn import datasets, ensemble, metrics\n",
    "import numpy as np\n",
    "import sys"
   ]
  },
  {
   "cell_type": "code",
   "execution_count": 2,
   "metadata": {},
   "outputs": [],
   "source": [
    "X, y = datasets.load_digits(return_X_y=True)\n",
    "sp = int(X.shape[0] * 0.75)\n",
    "X_train, X_test, y_train, y_test = X[:sp], X[sp:], y[:sp], y[sp:]"
   ]
  },
  {
   "cell_type": "code",
   "execution_count": 3,
   "metadata": {},
   "outputs": [
    {
     "name": "stdout",
     "output_type": "stream",
     "text": [
      "Error fraction: 0.0377777777778\n"
     ]
    }
   ],
   "source": [
    "correct = 0\n",
    "for xi, yi in zip(X_test, y_test):\n",
    "    mind = sys.maxint\n",
    "    minc = -1\n",
    "    \n",
    "    for xj, yj in zip(X_train, y_train):\n",
    "        d = np.sum((xi-xj)**2)\n",
    "        if d < mind:\n",
    "            mind = d\n",
    "            minc = yj\n",
    "    if yi == minc:\n",
    "        correct += 1\n",
    "        \n",
    "print \"Error fraction:\", (float(y_test.shape[0]) - correct) / y_test.shape[0]"
   ]
  },
  {
   "cell_type": "code",
   "execution_count": 4,
   "metadata": {},
   "outputs": [
    {
     "name": "stdout",
     "output_type": "stream",
     "text": [
      "Error fraction: 0.0622222222222\n"
     ]
    }
   ],
   "source": [
    "c = ensemble.RandomForestClassifier(n_estimators=1000)\n",
    "c.fit(X_train, y_train)\n",
    "\n",
    "print \"Error fraction:\", 1 - metrics.accuracy_score(y_test, c.predict(X_test))"
   ]
  },
  {
   "cell_type": "code",
   "execution_count": null,
   "metadata": {
    "collapsed": true
   },
   "outputs": [],
   "source": []
  }
 ],
 "metadata": {
  "kernelspec": {
   "display_name": "Python 2",
   "language": "python",
   "name": "python2"
  },
  "language_info": {
   "codemirror_mode": {
    "name": "ipython",
    "version": 2
   },
   "file_extension": ".py",
   "mimetype": "text/x-python",
   "name": "python",
   "nbconvert_exporter": "python",
   "pygments_lexer": "ipython2",
   "version": "2.7.13"
  }
 },
 "nbformat": 4,
 "nbformat_minor": 2
}
