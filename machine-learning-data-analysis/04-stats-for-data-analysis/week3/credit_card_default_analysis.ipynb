{
 "cells": [
  {
   "cell_type": "code",
   "execution_count": 1,
   "metadata": {},
   "outputs": [
    {
     "name": "stdout",
     "output_type": "stream",
     "text": [
      "Populating the interactive namespace from numpy and matplotlib\n"
     ]
    }
   ],
   "source": [
    "import numpy as np\n",
    "import pandas as pd\n",
    "from scipy import stats\n",
    "from statsmodels.stats import proportion\n",
    "\n",
    "np.random.seed(0)\n",
    "\n",
    "%pylab inline"
   ]
  },
  {
   "cell_type": "code",
   "execution_count": 2,
   "metadata": {},
   "outputs": [
    {
     "name": "stdout",
     "output_type": "stream",
     "text": [
      "(30000, 25)\n"
     ]
    },
    {
     "data": {
      "text/html": [
       "<div>\n",
       "<style>\n",
       "    .dataframe thead tr:only-child th {\n",
       "        text-align: right;\n",
       "    }\n",
       "\n",
       "    .dataframe thead th {\n",
       "        text-align: left;\n",
       "    }\n",
       "\n",
       "    .dataframe tbody tr th {\n",
       "        vertical-align: top;\n",
       "    }\n",
       "</style>\n",
       "<table border=\"1\" class=\"dataframe\">\n",
       "  <thead>\n",
       "    <tr style=\"text-align: right;\">\n",
       "      <th></th>\n",
       "      <th>ID</th>\n",
       "      <th>LIMIT_BAL</th>\n",
       "      <th>SEX</th>\n",
       "      <th>EDUCATION</th>\n",
       "      <th>MARRIAGE</th>\n",
       "      <th>AGE</th>\n",
       "      <th>PAY_0</th>\n",
       "      <th>PAY_2</th>\n",
       "      <th>PAY_3</th>\n",
       "      <th>PAY_4</th>\n",
       "      <th>...</th>\n",
       "      <th>BILL_AMT4</th>\n",
       "      <th>BILL_AMT5</th>\n",
       "      <th>BILL_AMT6</th>\n",
       "      <th>PAY_AMT1</th>\n",
       "      <th>PAY_AMT2</th>\n",
       "      <th>PAY_AMT3</th>\n",
       "      <th>PAY_AMT4</th>\n",
       "      <th>PAY_AMT5</th>\n",
       "      <th>PAY_AMT6</th>\n",
       "      <th>default</th>\n",
       "    </tr>\n",
       "  </thead>\n",
       "  <tbody>\n",
       "    <tr>\n",
       "      <th>0</th>\n",
       "      <td>1</td>\n",
       "      <td>20000</td>\n",
       "      <td>2</td>\n",
       "      <td>2</td>\n",
       "      <td>1</td>\n",
       "      <td>24</td>\n",
       "      <td>2</td>\n",
       "      <td>2</td>\n",
       "      <td>0</td>\n",
       "      <td>0</td>\n",
       "      <td>...</td>\n",
       "      <td>0</td>\n",
       "      <td>0</td>\n",
       "      <td>0</td>\n",
       "      <td>0</td>\n",
       "      <td>689</td>\n",
       "      <td>0</td>\n",
       "      <td>0</td>\n",
       "      <td>0</td>\n",
       "      <td>0</td>\n",
       "      <td>1</td>\n",
       "    </tr>\n",
       "    <tr>\n",
       "      <th>1</th>\n",
       "      <td>2</td>\n",
       "      <td>120000</td>\n",
       "      <td>2</td>\n",
       "      <td>2</td>\n",
       "      <td>2</td>\n",
       "      <td>26</td>\n",
       "      <td>0</td>\n",
       "      <td>2</td>\n",
       "      <td>0</td>\n",
       "      <td>0</td>\n",
       "      <td>...</td>\n",
       "      <td>3272</td>\n",
       "      <td>3455</td>\n",
       "      <td>3261</td>\n",
       "      <td>0</td>\n",
       "      <td>1000</td>\n",
       "      <td>1000</td>\n",
       "      <td>1000</td>\n",
       "      <td>0</td>\n",
       "      <td>2000</td>\n",
       "      <td>1</td>\n",
       "    </tr>\n",
       "    <tr>\n",
       "      <th>2</th>\n",
       "      <td>3</td>\n",
       "      <td>90000</td>\n",
       "      <td>2</td>\n",
       "      <td>2</td>\n",
       "      <td>2</td>\n",
       "      <td>34</td>\n",
       "      <td>0</td>\n",
       "      <td>0</td>\n",
       "      <td>0</td>\n",
       "      <td>0</td>\n",
       "      <td>...</td>\n",
       "      <td>14331</td>\n",
       "      <td>14948</td>\n",
       "      <td>15549</td>\n",
       "      <td>1518</td>\n",
       "      <td>1500</td>\n",
       "      <td>1000</td>\n",
       "      <td>1000</td>\n",
       "      <td>1000</td>\n",
       "      <td>5000</td>\n",
       "      <td>0</td>\n",
       "    </tr>\n",
       "    <tr>\n",
       "      <th>3</th>\n",
       "      <td>4</td>\n",
       "      <td>50000</td>\n",
       "      <td>2</td>\n",
       "      <td>2</td>\n",
       "      <td>1</td>\n",
       "      <td>37</td>\n",
       "      <td>0</td>\n",
       "      <td>0</td>\n",
       "      <td>0</td>\n",
       "      <td>0</td>\n",
       "      <td>...</td>\n",
       "      <td>28314</td>\n",
       "      <td>28959</td>\n",
       "      <td>29547</td>\n",
       "      <td>2000</td>\n",
       "      <td>2019</td>\n",
       "      <td>1200</td>\n",
       "      <td>1100</td>\n",
       "      <td>1069</td>\n",
       "      <td>1000</td>\n",
       "      <td>0</td>\n",
       "    </tr>\n",
       "    <tr>\n",
       "      <th>4</th>\n",
       "      <td>5</td>\n",
       "      <td>50000</td>\n",
       "      <td>1</td>\n",
       "      <td>2</td>\n",
       "      <td>1</td>\n",
       "      <td>57</td>\n",
       "      <td>0</td>\n",
       "      <td>0</td>\n",
       "      <td>0</td>\n",
       "      <td>0</td>\n",
       "      <td>...</td>\n",
       "      <td>20940</td>\n",
       "      <td>19146</td>\n",
       "      <td>19131</td>\n",
       "      <td>2000</td>\n",
       "      <td>36681</td>\n",
       "      <td>10000</td>\n",
       "      <td>9000</td>\n",
       "      <td>689</td>\n",
       "      <td>679</td>\n",
       "      <td>0</td>\n",
       "    </tr>\n",
       "  </tbody>\n",
       "</table>\n",
       "<p>5 rows × 25 columns</p>\n",
       "</div>"
      ],
      "text/plain": [
       "   ID  LIMIT_BAL  SEX  EDUCATION  MARRIAGE  AGE  PAY_0  PAY_2  PAY_3  PAY_4  \\\n",
       "0   1      20000    2          2         1   24      2      2      0      0   \n",
       "1   2     120000    2          2         2   26      0      2      0      0   \n",
       "2   3      90000    2          2         2   34      0      0      0      0   \n",
       "3   4      50000    2          2         1   37      0      0      0      0   \n",
       "4   5      50000    1          2         1   57      0      0      0      0   \n",
       "\n",
       "    ...     BILL_AMT4  BILL_AMT5  BILL_AMT6  PAY_AMT1  PAY_AMT2  PAY_AMT3  \\\n",
       "0   ...             0          0          0         0       689         0   \n",
       "1   ...          3272       3455       3261         0      1000      1000   \n",
       "2   ...         14331      14948      15549      1518      1500      1000   \n",
       "3   ...         28314      28959      29547      2000      2019      1200   \n",
       "4   ...         20940      19146      19131      2000     36681     10000   \n",
       "\n",
       "   PAY_AMT4  PAY_AMT5  PAY_AMT6  default  \n",
       "0         0         0         0        1  \n",
       "1      1000         0      2000        1  \n",
       "2      1000      1000      5000        0  \n",
       "3      1100      1069      1000        0  \n",
       "4      9000       689       679        0  \n",
       "\n",
       "[5 rows x 25 columns]"
      ]
     },
     "execution_count": 2,
     "metadata": {},
     "output_type": "execute_result"
    }
   ],
   "source": [
    "data = pd.read_csv(\"credit_card_default_analysis.csv\")\n",
    "print data.shape\n",
    "data.head()"
   ]
  },
  {
   "cell_type": "markdown",
   "metadata": {},
   "source": [
    "### Задание 1\n",
    "Размер кредитного лимита (LIMIT_BAL). В двух группах, тех людей, кто вернул кредит (default = 0) и тех, кто его не вернул (default = 1) проверьте гипотезы: a) о равенстве медианных значений кредитного лимита с помощью подходящей интервальной оценки b) о равенстве распределений с помощью одного из подходящих непараметрических критериев проверки равенства средних. Значимы ли полученные результаты с практической точки зрения ?"
   ]
  },
  {
   "cell_type": "code",
   "execution_count": 3,
   "metadata": {},
   "outputs": [
    {
     "data": {
      "image/png": "[encoded data removed]",
      "text/plain": [
       "<matplotlib.figure.Figure at 0x116139c90>"
      ]
     },
     "metadata": {},
     "output_type": "display_data"
    }
   ],
   "source": [
    "axarr = data.hist(\"LIMIT_BAL\", by=\"default\", figsize=(18, 6))\n",
    "for i, ax in enumerate(axarr.flatten()):\n",
    "    ax.set_title(\"No default\" if i == 0 else \"Default\")\n",
    "    ax.set_xlabel(\"Credit Limit\")\n",
    "    ax.set_ylabel(\"# of Credits\")"
   ]
  },
  {
   "cell_type": "markdown",
   "metadata": {},
   "source": [
    "Проверим гипотезу о равенстве медианных значений кредитного лимита с помощью метода бутсрепа."
   ]
  },
  {
   "cell_type": "code",
   "execution_count": 4,
   "metadata": {
    "collapsed": true
   },
   "outputs": [],
   "source": [
    "def get_bootstrap_samples(data, n_samples):\n",
    "    indices = np.random.randint(0, len(data), (n_samples, len(data)))\n",
    "    return data[indices]\n",
    "\n",
    "def stat_intervals(stat, alpha):\n",
    "    return np.percentile(stat, [100 * alpha / 2., 100 * (1 - alpha / 2.)])"
   ]
  },
  {
   "cell_type": "code",
   "execution_count": 5,
   "metadata": {
    "collapsed": true
   },
   "outputs": [],
   "source": [
    "limit_no_default = data[data.default == 0].LIMIT_BAL.values\n",
    "limit_default = data[data.default == 1].LIMIT_BAL.values\n",
    "\n",
    "no_default_median_scores = map(np.median, get_bootstrap_samples(limit_no_default, 1000))\n",
    "default_median_scores = map(np.median, get_bootstrap_samples(limit_default, 1000))"
   ]
  },
  {
   "cell_type": "code",
   "execution_count": 6,
   "metadata": {},
   "outputs": [
    {
     "name": "stdout",
     "output_type": "stream",
     "text": [
      "95% confidence interval for LIMIT_BAL (no default): [ 150000.  150000.]\n",
      "95% confidence interval for LIMIT_BAL (default): [ 80000.  90000.]\n"
     ]
    }
   ],
   "source": [
    "print \"95% confidence interval for LIMIT_BAL (no default):\", stat_intervals(no_default_median_scores, 0.05)\n",
    "print \"95% confidence interval for LIMIT_BAL (default):\", stat_intervals(default_median_scores, 0.05)"
   ]
  },
  {
   "cell_type": "markdown",
   "metadata": {},
   "source": [
    "Можно сделать вывод, что медианы кредитных лимитов не равны. Люди, не отдающие кредиты вовремя, чаще берут кредиты меньше размеров.\n",
    "\n",
    "Теперь оценим равенство распределений с помощью критерия Манна-Уитни.\n",
    "\n",
    "\n",
    "H0: медианные значения кредитного лимита равны\n",
    "\n",
    "H1: H0 неверна"
   ]
  },
  {
   "cell_type": "code",
   "execution_count": 7,
   "metadata": {},
   "outputs": [
    {
     "name": "stdout",
     "output_type": "stream",
     "text": [
      "p-value: 6.12774290911e-190\n"
     ]
    }
   ],
   "source": [
    "print \"p-value:\", stats.mannwhitneyu(limit_no_default, limit_default).pvalue"
   ]
  },
  {
   "cell_type": "markdown",
   "metadata": {},
   "source": [
    "Столь малое значение p-value позволяет нам с уверенностью отвергнуть нулевую гипотезу о равенстве мидиан двух выборок на уровне значимости 0.05.\n",
    "\n",
    "Данные результаты имеют практическую значимость. У маленьких кредитов больше риск невозврата."
   ]
  },
  {
   "cell_type": "markdown",
   "metadata": {},
   "source": [
    "### Задание 2\n",
    "Пол (SEX): Проверьте гипотезу о том, что гендерный состав группы людей вернувших и не вернувших кредит отличается. Хорошо, если вы предоставите несколько различных решений этой задачи (с помощью доверительного интервала и подходящего статистического критерия)"
   ]
  },
  {
   "cell_type": "code",
   "execution_count": 8,
   "metadata": {},
   "outputs": [
    {
     "data": {
      "text/plain": [
       "[<matplotlib.text.Text at 0x116521250>, <matplotlib.text.Text at 0x11652c190>]"
      ]
     },
     "execution_count": 8,
     "metadata": {},
     "output_type": "execute_result"
    },
    {
     "data": {
      "image/png": "[encoded data removed]",
      "text/plain": [
       "<matplotlib.figure.Figure at 0x1162eec50>"
      ]
     },
     "metadata": {},
     "output_type": "display_data"
    }
   ],
   "source": [
    "ax = pd.DataFrame({\"No default\": data[data.default == 0].SEX,\n",
    "              \"Default\": data[data.default == 1].SEX,\n",
    "             }).plot.hist(stacked=True, figsize=(8, 6))\n",
    "\n",
    "ax.set_xticks([1+0.05, 2-0.05])\n",
    "ax.set_xticklabels([\"Men\", \"Women\"])"
   ]
  },
  {
   "cell_type": "markdown",
   "metadata": {},
   "source": [
    "Проверим гипотезу о том, что гендерный состав группы людей вернувших и не вернувших кредит отличается, используя доверительные интервалы."
   ]
  },
  {
   "cell_type": "code",
   "execution_count": 9,
   "metadata": {},
   "outputs": [],
   "source": [
    "no_default_int = proportion.proportion_confint(sum(data[data.default == 0].SEX - 1), data[data.default == 0].shape[0], method='wilson')\n",
    "default_int = proportion.proportion_confint(sum(data[data.default == 1].SEX - 1), data[data.default == 1].shape[0], method='wilson')"
   ]
  },
  {
   "cell_type": "code",
   "execution_count": 10,
   "metadata": {},
   "outputs": [
    {
     "name": "stdout",
     "output_type": "stream",
     "text": [
      "Interfval for no default: (0.60788973403012403, 0.62037268419107494)\n",
      "Interval for default: (0.55510176302828174, 0.57893758196506595)\n"
     ]
    }
   ],
   "source": [
    "print \"Interfval for no default:\", no_default_int\n",
    "print \"Interval for default:\", default_int"
   ]
  },
  {
   "cell_type": "markdown",
   "metadata": {},
   "source": [
    "Интервалы не пересекаются. Видно, что процент мужчин, не вовращающих кредиты вовремя, слегка больше, чем процент женщин.\n",
    "\n",
    "Проверим эту же гипотезу, использую z-критерий для разности долей.\n",
    "\n",
    "H0: гендерный состав людей вернувших и не вернувших кредит не отличается\n",
    "\n",
    "H1: H0 неверна"
   ]
  },
  {
   "cell_type": "code",
   "execution_count": 11,
   "metadata": {},
   "outputs": [],
   "source": [
    "def proportions_diff_confint_ind(sample1, sample2, alpha=0.05):\n",
    "    z = stats.norm.ppf(1 - alpha / 2.)\n",
    "    \n",
    "    p1 = float(sum(sample1)) / len(sample1)\n",
    "    p2 = float(sum(sample2)) / len(sample2)\n",
    "    \n",
    "    left = (p1 - p2) - z * np.sqrt(p1 * (1 - p1) / len(sample1) + p2 * (1 - p2) / len(sample2))\n",
    "    right = (p1 - p2) + z * np.sqrt(p1 * (1 - p1) / len(sample1) + p2 * (1 - p2) / len(sample2))\n",
    "    \n",
    "    return (left, right)\n",
    "\n",
    "def proportions_diff_z_stat_int(sample1, sample2):\n",
    "    n1 = len(sample1)\n",
    "    n2 = len(sample2)\n",
    "    \n",
    "    p1 = float(sum(sample1)) / n1\n",
    "    p2 = float(sum(sample2)) / n2\n",
    "    P = float(p1 * n1 + p2*n2) / (n1 + n2)\n",
    "    \n",
    "    return (p1 - p2) / np.sqrt(P * (1 - P) * (1. / n1 + 1. / n2))\n",
    "\n",
    "def proportions_diff_z_test(z_stat, alternative = \"two-sided\"):\n",
    "    if alternative not in (\"two-sided\", \"less\", \"greater\"):\n",
    "        raise ValueError(\"Incorrect alternative\")\n",
    "    \n",
    "    if alternative == \"two-sided\":\n",
    "        return 2 * (1 - stats.norm.cdf(np.abs(z_stat)))\n",
    "    if alternative == \"less\":\n",
    "        return stats.norm.cdf(z_stat)\n",
    "    if alternative == \"greater\":\n",
    "        return 1 - scipy.stats.norm.cdf(z_stat)\n"
   ]
  },
  {
   "cell_type": "code",
   "execution_count": 12,
   "metadata": {},
   "outputs": [
    {
     "name": "stdout",
     "output_type": "stream",
     "text": [
      "Confidence interval: (0.033634932749628671, 0.060548077974896725)\n",
      "p-value: 4.47286652161e-12\n"
     ]
    }
   ],
   "source": [
    "print \"Confidence interval:\", proportions_diff_confint_ind(data[data.default == 0].SEX - 1, data[data.default == 1].SEX - 1)\n",
    "print \"p-value:\", proportions_diff_z_test(proportions_diff_z_stat_int(data[data.default == 0].SEX - 1, data[data.default == 1].SEX - 1))"
   ]
  },
  {
   "cell_type": "markdown",
   "metadata": {},
   "source": [
    "Столь малое значение p-value позволяет нам с уверенностью опровергнуть гипотезу о том, что гендерный состав людей, вернувших и не вернувших кредиты, не отличается на уровне значимости 0.05."
   ]
  },
  {
   "cell_type": "markdown",
   "metadata": {},
   "source": [
    "### Задание 3\n",
    "Образование (EDUCATION): Проверьте гипотезу о том, что образование не влияет на то, вернет ли человек долг. Предложите способ наглядного представления разницы в ожидаемых и наблюдаемых значениях количества человек вернувших и не вернувших долг. Например, составьте таблицу сопряженности \"образование\" на \"возврат долга\", где значением ячейки была бы разность между наблюдаемым и ожидаемым количеством человек. Как бы вы предложили модифицировать таблицу так, чтобы привести значения ячеек к одному масштабу не потеряв в интерпретируемости ? Наличие какого образования является наилучшим индикатором того, что человек отдаст долг ? наоборт, не отдаст долг ?"
   ]
  },
  {
   "cell_type": "code",
   "execution_count": 13,
   "metadata": {},
   "outputs": [
    {
     "data": {
      "text/plain": [
       "[<matplotlib.text.Text at 0x110166450>,\n",
       " <matplotlib.text.Text at 0x11016f590>,\n",
       " <matplotlib.text.Text at 0x117a384d0>,\n",
       " <matplotlib.text.Text at 0x117a38d90>,\n",
       " <matplotlib.text.Text at 0x1161e14d0>,\n",
       " <matplotlib.text.Text at 0x1161e1bd0>,\n",
       " <matplotlib.text.Text at 0x1161ec310>]"
      ]
     },
     "execution_count": 13,
     "metadata": {},
     "output_type": "execute_result"
    },
    {
     "data": {
      "image/png": "[encoded data removed]",
      "text/plain": [
       "<matplotlib.figure.Figure at 0x11014c8d0>"
      ]
     },
     "metadata": {},
     "output_type": "display_data"
    }
   ],
   "source": [
    "ax = pd.DataFrame({\"No default\": data[data.default == 0].EDUCATION,\n",
    "              \"Default\": data[data.default == 1].EDUCATION,\n",
    "             }).plot.hist(stacked=True, figsize=(16, 6))\n",
    "\n",
    "ax.set_xticks([0 + 0.3, 1 - 0.1, 2 + 0.1, 3 + 0.3, 4 - 0.1, 5 + 0.1, 6 - 0.3])\n",
    "ax.set_xticklabels([\"PhD\", \"Master\", \"Bachelor\", \"High\", \"Basic\", \"Other\", \"No data\"])"
   ]
  },
  {
   "cell_type": "markdown",
   "metadata": {},
   "source": [
    "Проверим гипотезу о том, что образование не влияет на то, вернет ли человек долг, используя критерий Хи-квадрат.\n",
    "\n",
    "H0: образование не влияет на то, что человек вернет долг\n",
    "\n",
    "H1: H0 неверна\n",
    "\n",
    "Составим сводную таблицу, в ячейках которой будет доля людей с конкретным уровнем образования, не допустивших и допустивших дефолт."
   ]
  },
  {
   "cell_type": "code",
   "execution_count": 14,
   "metadata": {},
   "outputs": [
    {
     "data": {
      "text/html": [
       "<div>\n",
       "<style>\n",
       "    .dataframe thead tr:only-child th {\n",
       "        text-align: right;\n",
       "    }\n",
       "\n",
       "    .dataframe thead th {\n",
       "        text-align: left;\n",
       "    }\n",
       "\n",
       "    .dataframe tbody tr th {\n",
       "        vertical-align: top;\n",
       "    }\n",
       "</style>\n",
       "<table border=\"1\" class=\"dataframe\">\n",
       "  <thead>\n",
       "    <tr style=\"text-align: right;\">\n",
       "      <th></th>\n",
       "      <th>Default</th>\n",
       "      <th>No default</th>\n",
       "    </tr>\n",
       "  </thead>\n",
       "  <tbody>\n",
       "    <tr>\n",
       "      <th>PhD</th>\n",
       "      <td>0.000000</td>\n",
       "      <td>1.000000</td>\n",
       "    </tr>\n",
       "    <tr>\n",
       "      <th>Master</th>\n",
       "      <td>0.192348</td>\n",
       "      <td>0.807652</td>\n",
       "    </tr>\n",
       "    <tr>\n",
       "      <th>Bachelor</th>\n",
       "      <td>0.237349</td>\n",
       "      <td>0.762651</td>\n",
       "    </tr>\n",
       "    <tr>\n",
       "      <th>High</th>\n",
       "      <td>0.251576</td>\n",
       "      <td>0.748424</td>\n",
       "    </tr>\n",
       "    <tr>\n",
       "      <th>Basic</th>\n",
       "      <td>0.056911</td>\n",
       "      <td>0.943089</td>\n",
       "    </tr>\n",
       "    <tr>\n",
       "      <th>Other</th>\n",
       "      <td>0.064286</td>\n",
       "      <td>0.935714</td>\n",
       "    </tr>\n",
       "    <tr>\n",
       "      <th>No data</th>\n",
       "      <td>0.156863</td>\n",
       "      <td>0.843137</td>\n",
       "    </tr>\n",
       "  </tbody>\n",
       "</table>\n",
       "</div>"
      ],
      "text/plain": [
       "           Default  No default\n",
       "PhD       0.000000    1.000000\n",
       "Master    0.192348    0.807652\n",
       "Bachelor  0.237349    0.762651\n",
       "High      0.251576    0.748424\n",
       "Basic     0.056911    0.943089\n",
       "Other     0.064286    0.935714\n",
       "No data   0.156863    0.843137"
      ]
     },
     "execution_count": 14,
     "metadata": {},
     "output_type": "execute_result"
    }
   ],
   "source": [
    "observed = pd.DataFrame(\n",
    "    {\"No default\": [float(data[(data.default == 0) & (data.EDUCATION == i)].shape[0]) /\n",
    "                    data[data.EDUCATION == i].shape[0] for i in range(0, 7)],\n",
    "     \"Default\": [float(data[(data.default == 1) & (data.EDUCATION == i)].shape[0]) /\n",
    "                 data[data.EDUCATION == i].shape[0] for i in range(0, 7)]})\n",
    "observed.index = [\"PhD\", \"Master\", \"Bachelor\", \"High\", \"Basic\", \"Other\", \"No data\"]\n",
    "observed"
   ]
  },
  {
   "cell_type": "code",
   "execution_count": 15,
   "metadata": {},
   "outputs": [
    {
     "name": "stdout",
     "output_type": "stream",
     "text": [
      "p-value: 0.998038881533\n"
     ]
    },
    {
     "data": {
      "text/plain": [
       "(0.48303310222377488,\n",
       " 0.99803888153345843,\n",
       " 6,\n",
       " array([[ 0.13704734,  0.86295266],\n",
       "        [ 0.13704734,  0.86295266],\n",
       "        [ 0.13704734,  0.86295266],\n",
       "        [ 0.13704734,  0.86295266],\n",
       "        [ 0.13704734,  0.86295266],\n",
       "        [ 0.13704734,  0.86295266],\n",
       "        [ 0.13704734,  0.86295266]]))"
      ]
     },
     "execution_count": 15,
     "metadata": {},
     "output_type": "execute_result"
    }
   ],
   "source": [
    "chi2 = stats.chi2_contingency(observed)\n",
    "print \"p-value:\", chi2[1]\n",
    "chi2"
   ]
  },
  {
   "cell_type": "markdown",
   "metadata": {},
   "source": [
    "Полученное значение p-value не позволяет нам отвергнуть нулевую гипотезу на уровне значимости 0.05.\n",
    "\n",
    "Составим таблицу сопряженности образования и разности наблюдаемого и ожидаемого количества людей, вернувших долг."
   ]
  },
  {
   "cell_type": "code",
   "execution_count": 16,
   "metadata": {},
   "outputs": [
    {
     "data": {
      "text/html": [
       "<div>\n",
       "<style>\n",
       "    .dataframe thead tr:only-child th {\n",
       "        text-align: right;\n",
       "    }\n",
       "\n",
       "    .dataframe thead th {\n",
       "        text-align: left;\n",
       "    }\n",
       "\n",
       "    .dataframe tbody tr th {\n",
       "        vertical-align: top;\n",
       "    }\n",
       "</style>\n",
       "<table border=\"1\" class=\"dataframe\">\n",
       "  <thead>\n",
       "    <tr style=\"text-align: right;\">\n",
       "      <th></th>\n",
       "      <th>diff</th>\n",
       "    </tr>\n",
       "  </thead>\n",
       "  <tbody>\n",
       "    <tr>\n",
       "      <th>PhD</th>\n",
       "      <td>1.918663</td>\n",
       "    </tr>\n",
       "    <tr>\n",
       "      <th>Master</th>\n",
       "      <td>-585.353886</td>\n",
       "    </tr>\n",
       "    <tr>\n",
       "      <th>Bachelor</th>\n",
       "      <td>-1407.225793</td>\n",
       "    </tr>\n",
       "    <tr>\n",
       "      <th>High</th>\n",
       "      <td>-563.138220</td>\n",
       "    </tr>\n",
       "    <tr>\n",
       "      <th>Basic</th>\n",
       "      <td>9.856823</td>\n",
       "    </tr>\n",
       "    <tr>\n",
       "      <th>Other</th>\n",
       "      <td>20.373256</td>\n",
       "    </tr>\n",
       "    <tr>\n",
       "      <th>No data</th>\n",
       "      <td>-1.010586</td>\n",
       "    </tr>\n",
       "  </tbody>\n",
       "</table>\n",
       "</div>"
      ],
      "text/plain": [
       "                 diff\n",
       "PhD          1.918663\n",
       "Master    -585.353886\n",
       "Bachelor -1407.225793\n",
       "High      -563.138220\n",
       "Basic        9.856823\n",
       "Other       20.373256\n",
       "No data     -1.010586"
      ]
     },
     "execution_count": 16,
     "metadata": {},
     "output_type": "execute_result"
    }
   ],
   "source": [
    "cross = pd.DataFrame(\n",
    "    {\"diff\": [data[(data.default == 0) & (data.EDUCATION == i)].shape[0] -\n",
    "              data[data.EDUCATION == i].shape[0] * chi2[3][i][1]\n",
    "              for i in range(0, 7)]})\n",
    "cross.index = [\"PhD\", \"Master\", \"Bachelor\", \"High\", \"Basic\", \"Other\", \"No data\"]\n",
    "cross"
   ]
  },
  {
   "cell_type": "markdown",
   "metadata": {},
   "source": [
    "Данная таблица не является очень информативной, т.к. у нас разное количество людей с разными уровнями образования. Соответственно, каждая строка таблицы имеет свой масштаб. Можно увеличить информативность, если добавить колоку с нормализованным масштабом."
   ]
  },
  {
   "cell_type": "code",
   "execution_count": 17,
   "metadata": {},
   "outputs": [
    {
     "data": {
      "text/html": [
       "<div>\n",
       "<style>\n",
       "    .dataframe thead tr:only-child th {\n",
       "        text-align: right;\n",
       "    }\n",
       "\n",
       "    .dataframe thead th {\n",
       "        text-align: left;\n",
       "    }\n",
       "\n",
       "    .dataframe tbody tr th {\n",
       "        vertical-align: top;\n",
       "    }\n",
       "</style>\n",
       "<table border=\"1\" class=\"dataframe\">\n",
       "  <thead>\n",
       "    <tr style=\"text-align: right;\">\n",
       "      <th></th>\n",
       "      <th>diff</th>\n",
       "      <th>diff fraction</th>\n",
       "    </tr>\n",
       "  </thead>\n",
       "  <tbody>\n",
       "    <tr>\n",
       "      <th>PhD</th>\n",
       "      <td>1.918663</td>\n",
       "      <td>0.137047</td>\n",
       "    </tr>\n",
       "    <tr>\n",
       "      <th>Master</th>\n",
       "      <td>-585.353886</td>\n",
       "      <td>-0.055300</td>\n",
       "    </tr>\n",
       "    <tr>\n",
       "      <th>Bachelor</th>\n",
       "      <td>-1407.225793</td>\n",
       "      <td>-0.100301</td>\n",
       "    </tr>\n",
       "    <tr>\n",
       "      <th>High</th>\n",
       "      <td>-563.138220</td>\n",
       "      <td>-0.114529</td>\n",
       "    </tr>\n",
       "    <tr>\n",
       "      <th>Basic</th>\n",
       "      <td>9.856823</td>\n",
       "      <td>0.080137</td>\n",
       "    </tr>\n",
       "    <tr>\n",
       "      <th>Other</th>\n",
       "      <td>20.373256</td>\n",
       "      <td>0.072762</td>\n",
       "    </tr>\n",
       "    <tr>\n",
       "      <th>No data</th>\n",
       "      <td>-1.010586</td>\n",
       "      <td>-0.019815</td>\n",
       "    </tr>\n",
       "  </tbody>\n",
       "</table>\n",
       "</div>"
      ],
      "text/plain": [
       "                 diff  diff fraction\n",
       "PhD          1.918663       0.137047\n",
       "Master    -585.353886      -0.055300\n",
       "Bachelor -1407.225793      -0.100301\n",
       "High      -563.138220      -0.114529\n",
       "Basic        9.856823       0.080137\n",
       "Other       20.373256       0.072762\n",
       "No data     -1.010586      -0.019815"
      ]
     },
     "execution_count": 17,
     "metadata": {},
     "output_type": "execute_result"
    }
   ],
   "source": [
    "cross[\"diff fraction\"] = [(float(data[(data.default == 0) & (data.EDUCATION == i)].shape[0]) /\n",
    "                   data[data.EDUCATION == i].shape[0]) -\n",
    "                   chi2[3][i][1] for i in range(0, 7)]\n",
    "cross"
   ]
  },
  {
   "cell_type": "markdown",
   "metadata": {},
   "source": [
    "Из данной таблицы можно сделать вывод, что наличие PhD является наилучшим индикатором того, что человек отдаст долг. А наличие школьного образования - наоборот."
   ]
  },
  {
   "cell_type": "markdown",
   "metadata": {},
   "source": [
    "### Задание 4\n",
    "Семейное положение (MARRIAGE): Проверьте, как связан семейный статус с индикатором дефолта: нужно предложить меру, по которой можно измерить возможную связь этих переменных и посчитать ее значение."
   ]
  },
  {
   "cell_type": "code",
   "execution_count": 18,
   "metadata": {},
   "outputs": [
    {
     "data": {
      "text/plain": [
       "[<matplotlib.text.Text at 0x117be5390>,\n",
       " <matplotlib.text.Text at 0x117c17090>,\n",
       " <matplotlib.text.Text at 0x117a4ac50>,\n",
       " <matplotlib.text.Text at 0x117befb90>]"
      ]
     },
     "execution_count": 18,
     "metadata": {},
     "output_type": "execute_result"
    },
    {
     "data": {
      "image/png": "[encoded data removed]",
      "text/plain": [
       "<matplotlib.figure.Figure at 0x11014c5d0>"
      ]
     },
     "metadata": {},
     "output_type": "display_data"
    }
   ],
   "source": [
    "ax = pd.DataFrame({\"No default\": data[data.default == 0].MARRIAGE,\n",
    "              \"Default\": data[data.default == 1].MARRIAGE,\n",
    "             }).plot.hist(stacked=True, figsize=(16, 6))\n",
    "\n",
    "ax.set_xticks([0 + 0.15, 1 + 0.05, 2 - 0.05, 3 - 0.1])\n",
    "ax.set_xticklabels([\"No answer\", \"Married\", \"Unmarried\", \"No data\"])"
   ]
  },
  {
   "cell_type": "markdown",
   "metadata": {},
   "source": [
    "Отбросим данные, где семейный статус намеренно скрыт или у нас просто нет данных (эти данные составляют малую часть от всей информации), т.к. нас интересует связь семейного статуса с индикатором дефолта."
   ]
  },
  {
   "cell_type": "code",
   "execution_count": 19,
   "metadata": {},
   "outputs": [
    {
     "data": {
      "text/plain": [
       "[<matplotlib.text.Text at 0x118375350>, <matplotlib.text.Text at 0x117ceb310>]"
      ]
     },
     "execution_count": 19,
     "metadata": {},
     "output_type": "execute_result"
    },
    {
     "data": {
      "image/png": "[encoded data removed]",
      "text/plain": [
       "<matplotlib.figure.Figure at 0x1161f3710>"
      ]
     },
     "metadata": {},
     "output_type": "display_data"
    }
   ],
   "source": [
    "data_m = data[data.MARRIAGE.isin([1, 2])]\n",
    "ax = pd.DataFrame({\"No default\": data_m[data_m.default == 0].MARRIAGE,\n",
    "              \"Default\": data_m[data_m.default == 1].MARRIAGE,\n",
    "             }).plot.hist(stacked=True, figsize=(16, 6))\n",
    "\n",
    "ax.set_xticks([1 + 0.05, 2 - 0.05])\n",
    "ax.set_xticklabels([\"Married\", \"Unmarried\"])"
   ]
  },
  {
   "cell_type": "markdown",
   "metadata": {},
   "source": [
    "Теперь проверим взаимосвязь семейного статуса и индикатора дефолта, используюя корреляцию Мэттьюса."
   ]
  },
  {
   "cell_type": "code",
   "execution_count": 20,
   "metadata": {},
   "outputs": [
    {
     "data": {
      "text/plain": [
       "[[12623, 10453], [3341, 3206]]"
      ]
     },
     "execution_count": 20,
     "metadata": {},
     "output_type": "execute_result"
    }
   ],
   "source": [
    "t = [[data_m[(data_m.default == 0) & (data_m.MARRIAGE == 2)].shape[0],\n",
    "      data_m[(data_m.default == 0) & (data_m.MARRIAGE == 1)].shape[0]],\n",
    "     [data_m[(data_m.default == 1) & (data_m.MARRIAGE == 2)].shape[0],\n",
    "       data_m[(data_m.default == 1) & (data_m.MARRIAGE == 1)].shape[0]]]\n",
    "t"
   ]
  },
  {
   "cell_type": "code",
   "execution_count": 21,
   "metadata": {},
   "outputs": [
    {
     "data": {
      "text/plain": [
       "0.030555369920445503"
      ]
     },
     "execution_count": 21,
     "metadata": {},
     "output_type": "execute_result"
    }
   ],
   "source": [
    "matt_c = (t[0][0] * t[1][1] - t[0][1] * t[1][0]) / np.sqrt((t[0][0] + t[0][1]) *\n",
    "                                                           (t[0][0] + t[1][0]) *\n",
    "                                                           (t[0][1] + t[1][1]) *\n",
    "                                                           (t[1][0] + t[1][1]))\n",
    "matt_c"
   ]
  },
  {
   "cell_type": "markdown",
   "metadata": {},
   "source": [
    "Корреляция между семейным статусом и индикатором дефолта практически отсутствует. "
   ]
  },
  {
   "cell_type": "markdown",
   "metadata": {},
   "source": [
    "### Задание 5\n",
    "Возраст (AGE): Относительно двух групп людей вернувших и не вернувших кредит проверьте следующие гипотезы: a) о равенстве медианных значений возрастов людей b) о равенстве распределений с помощью одного из подходящих непараметрических критериев проверки равенства средних. Значимы ли полученные результаты с практической точки зрения ?"
   ]
  },
  {
   "cell_type": "code",
   "execution_count": 22,
   "metadata": {},
   "outputs": [
    {
     "data": {
      "image/png": "[encoded data removed]",
      "text/plain": [
       "<matplotlib.figure.Figure at 0x1118547d0>"
      ]
     },
     "metadata": {},
     "output_type": "display_data"
    }
   ],
   "source": [
    "axarr = data.hist(\"AGE\", by=\"default\", figsize=(18, 6))\n",
    "for i, ax in enumerate(axarr.flatten()):\n",
    "    ax.set_title(\"No default\" if i == 0 else \"Default\")\n",
    "    ax.set_xlabel(\"Age\")\n",
    "    ax.set_ylabel(\"# of Credits\")"
   ]
  },
  {
   "cell_type": "markdown",
   "metadata": {},
   "source": [
    "Проверим гипотезу о равенстве медианных значений возраста с помощью метода бутсрепа."
   ]
  },
  {
   "cell_type": "code",
   "execution_count": 23,
   "metadata": {
    "collapsed": true
   },
   "outputs": [],
   "source": [
    "age_no_default = data[data.default == 0].AGE.values\n",
    "age_default = data[data.default == 1].AGE.values\n",
    "\n",
    "no_default_age_median_scores = map(np.median, get_bootstrap_samples(age_no_default, 1000))\n",
    "default_age_median_scores = map(np.median, get_bootstrap_samples(age_default, 1000))"
   ]
  },
  {
   "cell_type": "code",
   "execution_count": 24,
   "metadata": {},
   "outputs": [
    {
     "name": "stdout",
     "output_type": "stream",
     "text": [
      "95% confidence interval for AGE (no default): [ 34.  34.]\n",
      "95% confidence interval for AGE (default): [ 34.  35.]\n"
     ]
    }
   ],
   "source": [
    "print \"95% confidence interval for AGE (no default):\", stat_intervals(no_default_age_median_scores, 0.05)\n",
    "print \"95% confidence interval for AGE (default):\", stat_intervals(default_age_median_scores, 0.05)"
   ]
  },
  {
   "cell_type": "markdown",
   "metadata": {},
   "source": [
    "Интервалы пересекаются. Мы не можем утверждать, что есть зависимость между возрастом и индикатором дефолта.\n",
    "\n",
    "Теперь оценим равенство распределений с помощью критерия Манна-Уитни.\n",
    "\n",
    "H0: медианные значения возраста равны\n",
    "\n",
    "H1: H0 неверна"
   ]
  },
  {
   "cell_type": "code",
   "execution_count": 25,
   "metadata": {},
   "outputs": [
    {
     "name": "stdout",
     "output_type": "stream",
     "text": [
      "p-value: 0.186251771745\n"
     ]
    }
   ],
   "source": [
    "print \"p-value:\", stats.mannwhitneyu(age_no_default, age_default).pvalue"
   ]
  },
  {
   "cell_type": "markdown",
   "metadata": {},
   "source": [
    "Полученное значение p-value не позволяет нам отвергнуть нулевую гипотезу на уровне значимости 0.05.\n",
    "\n",
    "Данные результат показывает, что возраст не обладает предсказательной силой в задаче предсказания индикатора дефолта."
   ]
  }
 ],
 "metadata": {
  "kernelspec": {
   "display_name": "Python 2",
   "language": "python",
   "name": "python2"
  },
  "language_info": {
   "codemirror_mode": {
    "name": "ipython",
    "version": 2
   },
   "file_extension": ".py",
   "mimetype": "text/x-python",
   "name": "python",
   "nbconvert_exporter": "python",
   "pygments_lexer": "ipython2",
   "version": "2.7.13"
  }
 },
 "nbformat": 4,
 "nbformat_minor": 2
}
